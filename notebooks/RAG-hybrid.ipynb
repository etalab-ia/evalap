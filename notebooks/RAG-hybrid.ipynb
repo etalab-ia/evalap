{
 "cells": [
  {
   "cell_type": "code",
   "execution_count": 4,
   "id": "587a2251-9dc2-4a66-b48f-3eb49cf6b5bf",
   "metadata": {},
   "outputs": [],
   "source": [
    "import os\n",
    "import sys\n",
    "import time\n",
    "\n",
    "import dotenv\n",
    "from IPython.display import HTML\n",
    "import numpy as np\n",
    "import pandas as pd\n",
    "import requests\n",
    "\n",
    "dotenv.load_dotenv(\"../.env\")\n",
    "sys.path.append(\"..\")\n",
    "from evalap.utils import log_and_raise_for_status\n",
    "\n",
    "#EG1_API_URL = \"http://localhost:8000/v1\"\n",
    "EG1_API_URL = \"https://evalap.etalab.gouv.fr/v1\"\n",
    "EG1_API_KEY = os.getenv(\"EVALAP_API_KEY\") \n",
    "ALBERT_API_URL = \"https://albert.api.etalab.gouv.fr/v1\"\n",
    "ALBERT_API_KEY = os.getenv(\"ALBERT_API_KEY\")\n",
    "ALBERT_API_URL_DEV = \"https://albert.api.dev.etalab.gouv.fr/v1\"\n",
    "ALBERT_API_KEY_DEV = os.getenv(\"ALBERT_API_KEY_DEV\")\n",
    "MFS_API_URL = \"https://franceservices.etalab.gouv.fr/api/v1\"\n",
    "MFS_API_KEY = os.getenv(\"MFS_API_KEY\")\n",
    "headers = {\"Authorization\": f\"Bearer {EG1_API_KEY}\"}"
   ]
  },
  {
   "cell_type": "code",
   "execution_count": 2,
   "id": "ecb4a91a-09aa-49dc-8d1c-682ca14b111f",
   "metadata": {},
   "outputs": [
    {
     "name": "stdout",
     "output_type": "stream",
     "text": [
      "Created expset: albert-api-rag-mfs-v2 (68)\n"
     ]
    }
   ],
   "source": [
    "# Designing my experiments\n",
    "# --\n",
    "expset_name = \"albert-api-rag-mfs-v2\"\n",
    "expset_readme = \"Evaluating hybrid search on MFS dataset.\"\n",
    "metrics = [\"judge_precision\", \"output_length\", \"generation_time\"]\n",
    "common_params = {\n",
    "    \"dataset\" : \"MFS_questions_v01\",\n",
    "    \"model\": {\"sampling_params\" : {\"temperature\": 0.2}},\n",
    "    \"metrics\" : metrics,\n",
    "    \"judge_model\": \"gpt-4.1\",\n",
    "}\n",
    "grid_params = {\n",
    "    \"model\": [\n",
    "        {\n",
    "            \"name\": \"mistralai/Mistral-Small-3.2-24B-Instruct-2506\", \n",
    "            \"aliased_name\": \"albert-large-semantic-qdrant\",\n",
    "            \"extra_params\": {\"search\": True, \"search_args\": {\"method\": \"semantic\", \"collections\": [784,785], \"k\":10}},\n",
    "            \"base_url\": ALBERT_API_URL, \"api_key\": ALBERT_API_KEY\n",
    "        },\n",
    "        {\n",
    "            \"name\": \"mistralai/Mistral-Small-3.1-24B-Instruct-2503\", \n",
    "            \"aliased_name\": \"albert-large-semantic-elastic\",\n",
    "            \"extra_params\": {\"search\": True, \"search_args\": {\"method\": \"semantic\", \"collections\": [20,21], \"k\":10}},\n",
    "            \"base_url\": ALBERT_API_URL_DEV, \"api_key\": ALBERT_API_KEY_DEV\n",
    "        },\n",
    "        {\n",
    "            \"name\": \"mistralai/Mistral-Small-3.1-24B-Instruct-2503\", \n",
    "            \"aliased_name\": \"albert-large-lexical-elastic\",\n",
    "            \"extra_params\": {\"search\": True, \"search_args\": {\"method\": \"lexical\", \"collections\": [20,21], \"k\":10}},\n",
    "            \"base_url\": ALBERT_API_URL_DEV, \"api_key\": ALBERT_API_KEY_DEV\n",
    "        },\n",
    "        {\n",
    "            \"name\": \"mistralai/Mistral-Small-3.1-24B-Instruct-2503\", \n",
    "            \"aliased_name\": \"albert-large-hybrid-elastic\",\n",
    "            \"extra_params\": {\"search\": True, \"search_args\": {\"method\": \"hybrid\", \"collections\": [20,21], \"k\":10}},\n",
    "            \"base_url\": ALBERT_API_URL_DEV, \"api_key\": ALBERT_API_KEY_DEV\n",
    "        },\n",
    "    ],\n",
    "}\n",
    "\n",
    "\n",
    "\n",
    "# Lauching the experiment set\n",
    "expset = {\n",
    "    \"name\" : expset_name, \n",
    "    \"readme\": expset_readme,\n",
    "    \"cv\": {\"common_params\": common_params, \"grid_params\": grid_params, \"repeat\":5}\n",
    "}\n",
    "response = requests.post(f'{EG1_API_URL}/experiment_set', json=expset, headers=headers)\n",
    "resp = response.json()\n",
    "if \"id\" in resp:\n",
    "    expset_id = resp[\"id\"]\n",
    "    print(f'Created expset: {resp[\"name\"]} ({resp[\"id\"]})')\n",
    "else:\n",
    "    print(resp)"
   ]
  },
  {
   "cell_type": "code",
   "execution_count": 23,
   "id": "dcfcd6b6-0019-4c19-915d-623ab8e4d045",
   "metadata": {},
   "outputs": [
    {
     "name": "stdout",
     "output_type": "stream",
     "text": [
      "Patched expset: albert-api-rag-mfs-v2 (68)\n"
     ]
    }
   ],
   "source": [
    "# Patching the experiment set\n",
    "\n",
    "common_params = {\n",
    "    \"dataset\" : \"MFS_questions_v01\",\n",
    "    \"model\": {\"sampling_params\" : {\"temperature\": 0.2}},\n",
    "    \"metrics\" : metrics,\n",
    "    \"judge_model\": \"gpt-4.1\",\n",
    "}\n",
    "grid_params = {\n",
    "    \"model\": [\n",
    "        {\n",
    "            \"name\": \"mistralai/Mistral-Small-3.2-24B-Instruct-2506\", \n",
    "            \"aliased_name\": \"albert-large-dry-3.2\",\n",
    "            \"base_url\": ALBERT_API_URL, \"api_key\": ALBERT_API_KEY\n",
    "        },\n",
    "        {\n",
    "            \"name\": \"mistralai/Mistral-Small-3.1-24B-Instruct-2503\", \n",
    "            \"aliased_name\": \"albert-large-dry-3.1\",\n",
    "            \"base_url\": ALBERT_API_URL_DEV, \"api_key\": ALBERT_API_KEY_DEV\n",
    "        },\n",
    "\n",
    "    ],\n",
    "}\n",
    "\n",
    "expset = {\n",
    "\n",
    "    \"cv\": {\"common_params\": common_params, \"grid_params\": grid_params, \"repeat\":5}\n",
    "}\n",
    "response = requests.patch(f'{EG1_API_URL}/experiment_set/{expset_id}', json=expset, headers=headers)\n",
    "resp = response.json()\n",
    "if \"id\" in resp:\n",
    "    expset_id = resp[\"id\"]\n",
    "    print(f'Patched expset: {resp[\"name\"]} ({resp[\"id\"]})')\n",
    "else:\n",
    "    print(resp)"
   ]
  },
  {
   "cell_type": "code",
   "execution_count": 13,
   "id": "e6d54607-6e3d-4763-b028-6d65cb7b6603",
   "metadata": {},
   "outputs": [],
   "source": [
    "expset_name = \"albert-api-rag-mfs-v3\"\n",
    "expset_readme = \"Evaluating hybrid search on MFS dataset.\"\n",
    "metrics = [\"judge_precision\", \"output_length\", \"generation_time\"]\n",
    "common_params = {\n",
    "    \"dataset\" : \"MFS_questions_v01\",\n",
    "    \"model\": {\"sampling_params\" : {\"temperature\": 0.2}},\n",
    "    \"metrics\" : metrics,\n",
    "    \"judge_model\": \"gpt-4.1\",\n",
    "}"
   ]
  },
  {
   "cell_type": "code",
   "execution_count": 15,
   "id": "127969d5-6c86-4742-88e6-c7bbf552e27f",
   "metadata": {},
   "outputs": [
    {
     "name": "stdout",
     "output_type": "stream",
     "text": [
      "Patched expset: albert-api-rag-mfs-v3 (68)\n"
     ]
    }
   ],
   "source": [
    "# Patching the experiment set\n",
    "\n",
    "common_params = {\n",
    "    \"dataset\" : \"MFS_questions_v01\",\n",
    "    \"model\": {\"sampling_params\" : {\"temperature\": 0.2}},\n",
    "    \"metrics\" : metrics,\n",
    "    \"judge_model\": \"gpt-4.1\",\n",
    "}\n",
    "grid_params = {\n",
    "    \"model\": [\n",
    "        {\n",
    "            \"name\": \"mistralai/Mistral-Small-3.1-24B-Instruct-2503\", \n",
    "            \"aliased_name\": \"albert-large-hybrid-web-elastic\",\n",
    "            \"extra_params\": {\"search\": True, \"search_args\": {\"method\": \"hybrid\", \"web_search\": True, \"k\":10}},\n",
    "            \"base_url\": ALBERT_API_URL_DEV, \"api_key\": ALBERT_API_KEY_DEV\n",
    "        },\n",
    "        {\n",
    "            \"name\": \"mistralai/Mistral-Small-3.2-24B-Instruct-2506\", \n",
    "            \"aliased_name\": \"albert-large-semantic-web-qdrant\",\n",
    "            \"extra_params\": {\"search\": True, \"search_args\": {\"method\": \"semantic\", \"web_search\": True, \"k\":10}},\n",
    "            \"base_url\": ALBERT_API_URL, \"api_key\": ALBERT_API_KEY\n",
    "        },\n",
    "        \n",
    "\n",
    "    ],\n",
    "}\n",
    "\n",
    "expset = {\n",
    "\n",
    "    \"cv\": {\"common_params\": common_params, \"grid_params\": grid_params, \"repeat\":5}\n",
    "}\n",
    "response = requests.patch(f'{EG1_API_URL}/experiment_set/{expset_id}', json=expset, headers=headers)\n",
    "resp = response.json()\n",
    "if \"id\" in resp:\n",
    "    expset_id = resp[\"id\"]\n",
    "    print(f'Patched expset: {resp[\"name\"]} ({resp[\"id\"]})')\n",
    "else:\n",
    "    print(resp)"
   ]
  },
  {
   "cell_type": "code",
   "execution_count": null,
   "id": "bc2ca1dd-d313-458f-a316-2aa5ecfd3a4e",
   "metadata": {},
   "outputs": [],
   "source": []
  }
 ],
 "metadata": {
  "kernelspec": {
   "display_name": "Python 3 (ipykernel)",
   "language": "python",
   "name": "python3"
  },
  "language_info": {
   "codemirror_mode": {
    "name": "ipython",
    "version": 3
   },
   "file_extension": ".py",
   "mimetype": "text/x-python",
   "name": "python",
   "nbconvert_exporter": "python",
   "pygments_lexer": "ipython3",
   "version": "3.13.7"
  }
 },
 "nbformat": 4,
 "nbformat_minor": 5
}
