{
 "cells": [
  {
   "cell_type": "markdown",
   "id": "14ecbc85-47c2-454d-90c8-71d415f83288",
   "metadata": {},
   "source": [
    "# Demo for launching an experiment set with tooling\n",
    "\n",
    "Results setup and analysis : https://pad.numerique.gouv.fr/IktyaLVESTWyadnL0Q-0sw#\n"
   ]
  },
  {
   "cell_type": "code",
   "execution_count": 1,
   "id": "fb6038d3-def4-4fc4-8ae2-4327af3e919f",
   "metadata": {},
   "outputs": [],
   "source": [
    "import os, sys, time, json\n",
    "import dotenv\n",
    "from IPython.display import HTML\n",
    "import numpy as np\n",
    "import pandas as pd\n",
    "import requests\n",
    "\n",
    "dotenv.load_dotenv(\"../.env\")\n",
    "sys.path.append(\"..\")\n",
    "from evalap.utils import log_and_raise_for_status\n",
    "\n",
    "#EVALAP_API_URL = \"http://localhost:8000/v1\"\n",
    "EVALAP_API_URL = \"https://evalap.etalab.gouv.fr/v1\"\n",
    "EVALAP_API_KEY = os.getenv(\"EVALAP_API_KEY\") \n",
    "ALBERT_API_URL = \"https://albert.api.etalab.gouv.fr/v1\"\n",
    "ALBERT_API_KEY = os.getenv(\"ALBERT_API_KEY\")\n",
    "OPENAI_URL = \"https://api.openai.com/v1\"\n",
    "OPENAI_API_KEY = os.getenv(\"OPENAI_API_KEY\")\n",
    "headers = {\"Authorization\": f\"Bearer {EVALAP_API_KEY}\"}"
   ]
  },
  {
   "cell_type": "code",
   "execution_count": 9,
   "id": "1b60dd8b-e7b5-4a08-86c7-1025c5b80f18",
   "metadata": {},
   "outputs": [
    {
     "name": "stdout",
     "output_type": "stream",
     "text": [
      "Created expset: mfs_tooling_v8 (51)\n"
     ]
    }
   ],
   "source": [
    "# Designing my experiments\n",
    "# --\n",
    "expset_name = \"mfs_tooling_v8\"\n",
    "expset_readme = \"Evaluating tooling capabilities.  \\nembedding model: bge-multilingual-gemma2  \\ncollections: chunks-v13-04-25, limit=10\"\n",
    "system_prompt = \"Tu es un agent de l'état Français qui répond en langue française aux questions des usagers des services publiques et citoyens de manière précise, concrète et concise.\"\n",
    "metrics = [\"judge_precision\", \"output_length\", \"generation_time\", \"nb_tool_calls\"]\n",
    "common_params = {\n",
    "    \"dataset\" : \"MFS_questions_v01\",\n",
    "    \"model\": {\"sampling_params\" : {\"temperature\": 0.2}, \"system_prompt\": system_prompt},\n",
    "    \"metrics\" : metrics,\n",
    "    \"judge_model\": \"gpt-4o\",\n",
    "}\n",
    "grid_params = {\n",
    "    \"model\": [\n",
    "        {\"name\": \"meta-llama/Llama-3.1-8B-Instruct\",                 \"base_url\": ALBERT_API_URL, \"api_key\": ALBERT_API_KEY},\n",
    "        {\"name\": \"mistralai/Mistral-Small-3.1-24B-Instruct-2503\",    \"base_url\": ALBERT_API_URL, \"api_key\": ALBERT_API_KEY},\n",
    "    ],\n",
    "}\n",
    "\n",
    "\n",
    "# Duplicate with each model params\n",
    "# --\n",
    "system_prompt_tool = \"Tu recherche des données précises et à jour en utilisant les outils mis à disposition sur les services publiques français. Réponds de manière précise, conrète et concise.\"\n",
    "tools = [\n",
    "    #{\"_tools_\": [\"search_albert_collections_v0\"]},\n",
    "    {\"_tools_\": [\"search_albert_collections_v1\"]}, # tool_choice=required not suported by albert-api atm.\n",
    "    {\"_tools_\": [\"search_albert_collections_v2\"]},\n",
    "]\n",
    "for i in range(len(grid_params[\"model\"])):\n",
    "    for extra_params in tools:\n",
    "        model = grid_params[\"model\"][i]\n",
    "        grid_params[\"model\"].append(model.copy() | {\"extra_params\": extra_params} | {\"system_prompt\": system_prompt_tool})\n",
    "\n",
    "# Lauching the experiment set\n",
    "expset = {\n",
    "    \"name\" : expset_name, \n",
    "    \"readme\": expset_readme,\n",
    "    \"cv\": {\"common_params\": common_params, \"grid_params\": grid_params, \"repeat\":4}\n",
    "}\n",
    "response = requests.post(f'{EVALAP_API_URL}/experiment_set', json=expset, headers=headers)\n",
    "resp = response.json()\n",
    "if \"id\" in resp:\n",
    "    expset_id = resp[\"id\"]\n",
    "    print(f'Created expset: {resp[\"name\"]} ({resp[\"id\"]})')\n",
    "else:\n",
    "    print(resp)"
   ]
  },
  {
   "cell_type": "code",
   "execution_count": null,
   "id": "0fe878a3-39f6-41fc-839f-da0bb083a6f6",
   "metadata": {},
   "outputs": [],
   "source": []
  }
 ],
 "metadata": {
  "kernelspec": {
   "display_name": "Python 3 (ipykernel)",
   "language": "python",
   "name": "python3"
  },
  "language_info": {
   "codemirror_mode": {
    "name": "ipython",
    "version": 3
   },
   "file_extension": ".py",
   "mimetype": "text/x-python",
   "name": "python",
   "nbconvert_exporter": "python",
   "pygments_lexer": "ipython3",
   "version": "3.13.7"
  }
 },
 "nbformat": 4,
 "nbformat_minor": 5
}
