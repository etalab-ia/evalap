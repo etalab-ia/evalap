{
 "cells": [
  {
   "cell_type": "markdown",
   "id": "14ecbc85-47c2-454d-90c8-71d415f83288",
   "metadata": {},
   "source": [
    "# Demo for launching an OCR experiments\n",
    "\n"
   ]
  },
  {
   "cell_type": "code",
   "execution_count": 27,
   "id": "fb6038d3-def4-4fc4-8ae2-4327af3e919f",
   "metadata": {},
   "outputs": [],
   "source": [
    "import os, sys, time, json\n",
    "import dotenv\n",
    "from IPython.display import HTML\n",
    "import numpy as np\n",
    "import pandas as pd\n",
    "import requests\n",
    "\n",
    "dotenv.load_dotenv(\"../.env\")\n",
    "sys.path.append(\"..\")\n",
    "from evalap.utils import log_and_raise_for_status\n",
    "\n",
    "#EVALAP_API_URL = \"http://localhost:8000/v1\"\n",
    "EVALAP_API_URL = \"https://evalap.etalab.gouv.fr/v1\"\n",
    "EVALAP_API_KEY = os.getenv(\"EVALAP_API_KEY\") \n",
    "ALBERT_API_URL = \"https://albert.api.etalab.gouv.fr/v1\"\n",
    "ALBERT_API_KEY = os.getenv(\"ALBERT_API_KEY\")\n",
    "OPENAI_URL = \"https://api.openai.com/v1\"\n",
    "OPENAI_API_KEY = os.getenv(\"OPENAI_API_KEY\")\n",
    "headers = {\"Authorization\": f\"Bearer {EVALAP_API_KEY}\"}"
   ]
  },
  {
   "cell_type": "code",
   "execution_count": 26,
   "id": "99280f36-5e7e-4837-a440-47ed00e8276f",
   "metadata": {},
   "outputs": [],
   "source": [
    "system_prompt = \"\"\"You are tasked with generating a JSON representation from the analysis (OCR) of a given image. \n",
    "Your goal is to create a JSON object that has the content of the image extracted in a structured format. \n",
    "\n",
    "The JSON should be structured to represent the content of the image in a way that corresponds to standard markdown primitives. Here's how to approach this task:\n",
    "\n",
    "The JSON should contain a list of blocks, where each block represents a distinct element in the image, such as headers, paragraphs, or tables.\n",
    "Here is a an exemple of the json schema wanted: \n",
    "\n",
    "Schema:\n",
    "```json\n",
    "[\n",
    " {\n",
    "   \"type\": \"string (e.g  Text, Table, Code, SectionHeader, Figure, Equation, Handwriting, PageFooter, PageHeader, Picture, TableOfContents etc)\",\n",
    "   \"text\": \"string (mardown formated text)\"\n",
    " },\n",
    " ...\n",
    "]\n",
    "```\n",
    "\n",
    "Example:\n",
    "```json\n",
    "[\n",
    " {\n",
    "    \"type\": \"Header\", \"text\": \"## I am a level 2 header\"\n",
    " },\n",
    " {\n",
    "   \"type\": \"Paragraph\", \"text\": \"I am a **paragraph**\"\n",
    " }\n",
    "]\n",
    "````\n",
    "\n",
    "Follow these guidelines when creating the JSON:\n",
    "\n",
    "1. The main structure should be a list of blocks. Each block are object containing a `type` and a `text field`.\n",
    "2. Each block is an object containing a `type` and a `text field`. They should correspond to a standard markdown primitive (e.g., Header, Paragraph, Table).\n",
    "3. Identify headers based on font size, weight, or positioning. These should be represented as \"Header\" blocks.\n",
    "4. Group continuous lines of text into \"Paragraph\" blocks.\n",
    "5. Identify tabular data and represent it as \"Table\" blocks. Only create table blocks for actual tabular data, not for text formatting.\n",
    "6. Do not create separate blocks for inline formatting (bold, italic) or URLs. Keep these within the relevant \"Paragraph\" block.\n",
    "7. If you encounter lists, represent them as \"List\" blocks, with nested items if applicable.\n",
    "8. For images or diagrams, use an \"Image\" block and include any available descriptive text.\n",
    "\n",
    "Remember, the goal is to create a structured representation of the image content that could be easily converted to markdown or used for further processing. Focus on the main structural elements and avoid over-complicating the JSON with minor formatting details.\n",
    "\n",
    "Do not explain your answer. Just answer with the JSON result directly.\n",
    "\"\"\""
   ]
  },
  {
   "cell_type": "code",
   "execution_count": 28,
   "id": "1b60dd8b-e7b5-4a08-86c7-1025c5b80f18",
   "metadata": {},
   "outputs": [
    {
     "name": "stdout",
     "output_type": "stream",
     "text": [
      "Created expset: albert_OCR_v2 (60)\n"
     ]
    }
   ],
   "source": [
    "# Designing my experiments\n",
    "# --\n",
    "expset_name = \"albert_OCR_v2\"\n",
    "expset_readme = \"Evaluating OCR capabilities of albert on the marker datasets\" \n",
    "common_params = {\n",
    "    \"dataset\" : \"OCR_marker_benchmark\",\n",
    "    \"model\": {\"sampling_params\" : {\"temperature\": 0.2}},\n",
    "    \"metrics\" : [\"ocr_v1\", \"output_length\", \"generation_time\"],\n",
    "    \"with_vision\": True  # use parquet dataset\n",
    "}\n",
    "grid_params = {\n",
    "    \"model\": [\n",
    "        {\"name\": \"mistralai/Mistral-Small-3.1-24B-Instruct-2503\", \"system_prompt\": system_prompt, \"base_url\": ALBERT_API_URL, \"api_key\": ALBERT_API_KEY},\n",
    "        {\"name\": \"mistralai/Mistral-Small-3.1-24B-Instruct-2503\", \"prelude_prompt\": system_prompt, \"base_url\": ALBERT_API_URL, \"api_key\": ALBERT_API_KEY},\n",
    "    ],\n",
    "}\n",
    "\n",
    "\n",
    "# Lauching the experiment set\n",
    "# --\n",
    "expset = {\n",
    "    \"name\" : expset_name, \n",
    "    \"readme\": expset_readme,\n",
    "    \"cv\": {\"common_params\": common_params, \"grid_params\": grid_params, \"repeat\":1}\n",
    "}\n",
    "response = requests.post(f'{EVALAP_API_URL}/experiment_set', json=expset, headers=headers)\n",
    "resp = response.json()\n",
    "if \"id\" in resp:\n",
    "    expset_id = resp[\"id\"]\n",
    "    print(f'Created expset: {resp[\"name\"]} ({resp[\"id\"]})')\n",
    "else:\n",
    "    print(resp)"
   ]
  },
  {
   "cell_type": "code",
   "execution_count": null,
   "id": "0fe878a3-39f6-41fc-839f-da0bb083a6f6",
   "metadata": {},
   "outputs": [],
   "source": []
  }
 ],
 "metadata": {
  "kernelspec": {
   "display_name": "Python 3 (ipykernel)",
   "language": "python",
   "name": "python3"
  },
  "language_info": {
   "codemirror_mode": {
    "name": "ipython",
    "version": 3
   },
   "file_extension": ".py",
   "mimetype": "text/x-python",
   "name": "python",
   "nbconvert_exporter": "python",
   "pygments_lexer": "ipython3",
   "version": "3.13.7"
  }
 },
 "nbformat": 4,
 "nbformat_minor": 5
}
