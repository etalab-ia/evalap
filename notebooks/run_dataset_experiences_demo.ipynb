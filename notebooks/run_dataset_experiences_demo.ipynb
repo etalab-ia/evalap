{
 "cells": [
  {
   "cell_type": "markdown",
   "id": "14ecbc85-47c2-454d-90c8-71d415f83288",
   "metadata": {},
   "source": [
    "# Demo for launching dataset experiment in EVALAP\n",
    "\n",
    "- code: https://github.com/etalab-ia/evalap\n",
    "- api documentation: https://evalap.etalab.gouv.fr/redoc"
   ]
  },
  {
   "cell_type": "code",
   "execution_count": 20,
   "id": "fb6038d3-def4-4fc4-8ae2-4327af3e919f",
   "metadata": {},
   "outputs": [],
   "source": [
    "import os\n",
    "import sys\n",
    "import time\n",
    "\n",
    "import dotenv\n",
    "from IPython.display import HTML\n",
    "import numpy as np\n",
    "import pandas as pd\n",
    "import requests\n",
    "\n",
    "dotenv.load_dotenv(\"../.env\")\n",
    "sys.path.append(\"..\")\n",
    "from evalap.utils import log_and_raise_for_status\n",
    "\n",
    "API_URL = \"http://localhost:8000\"\n",
    "ALBERT_API_URL = \"https://albert.api.etalab.gouv.fr/v1\"\n",
    "ALBERT_API_KEY = os.getenv(\"ALBERT_API_KEY\")\n",
    "MFS_API_URL = \"https://franceservices.staging.etalab.gouv.fr/api/v1\"\n",
    "MFS_API_KEY = os.getenv(\"MFS_API_KEY\")\n",
    "OPENAI_URL = \"https://api.openai.com/v1\"\n",
    "OPENAI_API_KEY = os.getenv(\"OPENAI_API_KEY\")"
   ]
  },
  {
   "cell_type": "markdown",
   "id": "74cf805d",
   "metadata": {},
   "source": [
    "## List of dataset\n"
   ]
  },
  {
   "cell_type": "code",
   "execution_count": 21,
   "id": "450399aa-f836-47b7-b6f6-2541da8a9f27",
   "metadata": {},
   "outputs": [
    {
     "data": {
      "text/plain": [
       "[{'name': 'mfs_dataset',\n",
       "  'id': 1,\n",
       "  'has_query': True,\n",
       "  'has_output': False,\n",
       "  'has_output_true': True,\n",
       "  'size': 2},\n",
       " {'name': 'MFS_questions_v01',\n",
       "  'id': 2,\n",
       "  'has_query': True,\n",
       "  'has_output': False,\n",
       "  'has_output_true': True,\n",
       "  'size': 39}]"
      ]
     },
     "execution_count": 21,
     "metadata": {},
     "output_type": "execute_result"
    }
   ],
   "source": [
    "# Show available dataset\n",
    "response = requests.get(f'{API_URL}/v1/datasets')\n",
    "resp = response.json()\n",
    "resp"
   ]
  },
  {
   "cell_type": "markdown",
   "id": "27f703f8-8ef0-4015-b030-bce55ccf77e0",
   "metadata": {},
   "source": [
    "## List of metrics available for analysing datasets and their information \n",
    "\n",
    "\n",
    "- the `require` field indicates which fields is required in the dataset for this metrics to operate.\n",
    "- the `type` field is ignore for now. It will be associated with the type of the observation you get in the result output later"
   ]
  },
  {
   "cell_type": "code",
   "execution_count": 38,
   "id": "7e461411-899a-4cec-a14d-4ad419b30c9d",
   "metadata": {},
   "outputs": [
    {
     "data": {
      "text/html": [
       "<table border=\"1\" class=\"dataframe\">\n",
       "  <thead>\n",
       "    <tr style=\"text-align: right;\">\n",
       "      <th>name</th>\n",
       "      <th>description</th>\n",
       "      <th>type</th>\n",
       "      <th>require</th>\n",
       "    </tr>\n",
       "  </thead>\n",
       "  <tbody>\n",
       "    <tr>\n",
       "      <td>judge_complexity</td>\n",
       "      <td>[0-10] score complexity of query, thematic...</td>\n",
       "      <td>dataset</td>\n",
       "      <td>[query]</td>\n",
       "    </tr>\n",
       "  </tbody>\n",
       "</table>"
      ],
      "text/plain": [
       "<IPython.core.display.HTML object>"
      ]
     },
     "execution_count": 38,
     "metadata": {},
     "output_type": "execute_result"
    }
   ],
   "source": [
    "# Show available metrics\n",
    "# - the require fields should be an existing field to the dataset used with the metric.\n",
    "# - output metric can be generated from the query (see below)\n",
    "response = requests.get(f'{API_URL}/v1/metrics')\n",
    "all_metrics = response.json()\n",
    "df = pd.DataFrame(all_metrics).sort_values(by=[\"type\", \"name\"])\n",
    "df = df[df[\"type\"] == \"dataset\"]\n",
    "HTML(df.to_html(index=False))"
   ]
  },
  {
   "cell_type": "markdown",
   "id": "d9ffe4f9-9dda-429d-a8ea-1b783abfc505",
   "metadata": {},
   "source": [
    "## Launching a pair of experiments on the data in a dataset"
   ]
  },
  {
   "cell_type": "code",
   "execution_count": 39,
   "id": "1b60dd8b-e7b5-4a08-86c7-1025c5b80f18",
   "metadata": {},
   "outputs": [
    {
     "name": "stdout",
     "output_type": "stream",
     "text": [
      "Created experiment: MFS_dataset_complexity_analyze (57), status: running_metrics\n"
     ]
    }
   ],
   "source": [
    "# Run an experiment on a dataset to obtain the metrics linked to the complexity of the question\n",
    "\n",
    "# Designing my experiments\n",
    "dataset = \"MFS_questions_v01\"\n",
    "metrics = [\"judge_complexity\"]\n",
    "\n",
    "# Lauching the experiments\n",
    "experiment_ids = []\n",
    "experiment = {\n",
    "    \"name\" : f\"MFS_dataset_complexity_analyze\", \n",
    "    \"dataset\": dataset,\n",
    "    \"metrics\": metrics,\n",
    "}\n",
    "\n",
    "response = requests.post(f'{API_URL}/v1/experiment', json=experiment)\n",
    "resp = response.json()\n",
    "\n",
    "if \"id\" in resp:\n",
    "    experiment_ids.append(resp[\"id\"])\n",
    "    print(f'Created experiment: {resp[\"name\"]} ({resp[\"id\"]}), status: {resp[\"experiment_status\"]}')\n",
    "else:\n",
    "    print(resp)"
   ]
  },
  {
   "cell_type": "markdown",
   "id": "e6156a8a-6812-49e7-9c22-3d8df99853b0",
   "metadata": {},
   "source": [
    "## Read results and showing results"
   ]
  },
  {
   "cell_type": "code",
   "execution_count": 40,
   "id": "33a17f87",
   "metadata": {},
   "outputs": [
    {
     "data": {
      "text/html": [
       "<div>\n",
       "<style scoped>\n",
       "    .dataframe tbody tr th:only-of-type {\n",
       "        vertical-align: middle;\n",
       "    }\n",
       "\n",
       "    .dataframe tbody tr th {\n",
       "        vertical-align: top;\n",
       "    }\n",
       "\n",
       "    .dataframe thead th {\n",
       "        text-align: right;\n",
       "    }\n",
       "</style>\n",
       "<table border=\"1\" class=\"dataframe\">\n",
       "  <thead>\n",
       "    <tr style=\"text-align: right;\">\n",
       "      <th></th>\n",
       "      <th>model</th>\n",
       "      <th>num_line</th>\n",
       "      <th>judge_complexity_score</th>\n",
       "      <th>thematique</th>\n",
       "      <th>demande_score</th>\n",
       "      <th>administration_score</th>\n",
       "      <th>procedure_score</th>\n",
       "      <th>global_score</th>\n",
       "      <th>answer</th>\n",
       "    </tr>\n",
       "  </thead>\n",
       "  <tbody>\n",
       "    <tr>\n",
       "      <th>0</th>\n",
       "      <td>Experiment_57</td>\n",
       "      <td>0</td>\n",
       "      <td>2.0</td>\n",
       "      <td>ANTS</td>\n",
       "      <td>1.0</td>\n",
       "      <td>1.0</td>\n",
       "      <td>2.0</td>\n",
       "      <td>2.0</td>\n",
       "      <td>Critère Demande : La question est claire et pr...</td>\n",
       "    </tr>\n",
       "    <tr>\n",
       "      <th>1</th>\n",
       "      <td>Experiment_57</td>\n",
       "      <td>1</td>\n",
       "      <td>3.0</td>\n",
       "      <td>ANTS</td>\n",
       "      <td>1.0</td>\n",
       "      <td>2.0</td>\n",
       "      <td>3.0</td>\n",
       "      <td>3.0</td>\n",
       "      <td>Critère Demande : La question est claire et pr...</td>\n",
       "    </tr>\n",
       "  </tbody>\n",
       "</table>\n",
       "</div>"
      ],
      "text/plain": [
       "           model  num_line  judge_complexity_score thematique  demande_score  \\\n",
       "0  Experiment_57         0                     2.0       ANTS            1.0   \n",
       "1  Experiment_57         1                     3.0       ANTS            1.0   \n",
       "\n",
       "   administration_score  procedure_score  global_score  \\\n",
       "0                   1.0              2.0           2.0   \n",
       "1                   2.0              3.0           3.0   \n",
       "\n",
       "                                              answer  \n",
       "0  Critère Demande : La question est claire et pr...  \n",
       "1  Critère Demande : La question est claire et pr...  "
      ]
     },
     "execution_count": 40,
     "metadata": {},
     "output_type": "execute_result"
    }
   ],
   "source": [
    "import json\n",
    "import pandas as pd\n",
    "import numpy as np\n",
    "import requests\n",
    "\n",
    "# BASELINE CODE FOR DATASET METRIC \n",
    "observations_dict = {}\n",
    "metric_names = set()\n",
    "\n",
    "experiment_ids = [resp[\"id\"]]\n",
    "\n",
    "for exp_id in experiment_ids:\n",
    "    response = requests.get(f'{API_URL}/v1/experiment/{exp_id}?with_results=true')\n",
    "    experiment = response.json()\n",
    "    results = experiment[\"results\"]\n",
    "    \n",
    "    model_name = f\"Experiment_{exp_id}\"\n",
    "    \n",
    "    for metric_results in results:\n",
    "        metric_name = metric_results[\"metric_name\"]\n",
    "        metric_names.add(metric_name)\n",
    "        for idx, obs in enumerate(metric_results[\"observation_table\"]):\n",
    "            key = (model_name, idx)\n",
    "            if key not in observations_dict:\n",
    "                observations_dict[key] = {\"model\": model_name, \"num_line\": idx}\n",
    "            \n",
    "            if metric_name == \"judge_complexity\" and \"observation\" in obs and obs[\"observation\"] is not None:\n",
    "                try:\n",
    "                    observation_data = json.loads(obs[\"observation\"])\n",
    "                    scores = observation_data.get(\"scores\", {})\n",
    "                    observations_dict[key].update({\n",
    "                        \"judge_complexity_score\": obs.get(\"score\"),\n",
    "                        \"thematique\": observation_data.get(\"thematique\", \"\"),\n",
    "                        \"demande_score\": scores.get(\"demande\", 0),\n",
    "                        \"administration_score\": scores.get(\"administration\", 0),\n",
    "                        \"procedure_score\": scores.get(\"procedure\", 0),\n",
    "                        \"global_score\": scores.get(\"global\", 0),\n",
    "                        \"answer\": observation_data.get(\"answer\", \"\")\n",
    "                    })\n",
    "                except json.JSONDecodeError:\n",
    "                    print(f\"Erreur de décodage JSON pour {model_name}, judge_complexity, ligne {idx}\")\n",
    "                except Exception as e:\n",
    "                    print(f\"Erreur inattendue pour {model_name}, judge_complexity, ligne {idx}: {str(e)}\")\n",
    "            else:\n",
    "                observations_dict[key][metric_name] = obs.get(\"score\")\n",
    "\n",
    "observations_df = pd.DataFrame(list(observations_dict.values()))\n",
    "\n",
    "columns_order = [\"model\", \"num_line\"]\n",
    "metric_columns = list(metric_names - {\"judge_complexity\"})\n",
    "columns_order.extend(metric_columns)\n",
    "judge_complexity_columns = [\"judge_complexity_score\", \"thematique\", \"demande_score\", \"administration_score\", \"procedure_score\", \"global_score\", \"answer\"]\n",
    "columns_order.extend([col for col in judge_complexity_columns if col in observations_df.columns])\n",
    "\n",
    "for col in columns_order:\n",
    "    if col not in observations_df.columns:\n",
    "        observations_df[col] = np.nan\n",
    "\n",
    "observations_df = observations_df[columns_order]\n",
    "\n",
    "observations_df.head(2)"
   ]
  },
  {
   "cell_type": "markdown",
   "id": "a6848fa6",
   "metadata": {},
   "source": [
    "### Dataviz"
   ]
  },
  {
   "cell_type": "code",
   "execution_count": 41,
   "id": "9ee40094",
   "metadata": {},
   "outputs": [],
   "source": [
    "import plotly.graph_objects as go\n",
    "import pandas as pd\n",
    "import plotly.graph_objects as go\n",
    "\n",
    "def create_scatter_plot(df, var1, var2):\n",
    "    fig = go.Figure(data=[go.Scatter(\n",
    "        x=df[var1],\n",
    "        y=df[var2],\n",
    "        mode='markers',\n",
    "        marker=dict(\n",
    "            size=10,\n",
    "            color='rgba(152, 0, 0, .8)',\n",
    "            line=dict(\n",
    "                width=2,\n",
    "                color='rgb(0, 0, 0)'\n",
    "            )\n",
    "        )\n",
    "    )])\n",
    "    \n",
    "    fig.update_layout(\n",
    "        title=f'Nuage de points : {var1} vs {var2}',\n",
    "        xaxis_title=var1,\n",
    "        yaxis_title=var2,\n",
    "        showlegend=False\n",
    "    )\n",
    "    \n",
    "    return fig\n"
   ]
  },
  {
   "cell_type": "code",
   "execution_count": 42,
   "id": "c93bec8d",
   "metadata": {},
   "outputs": [
    {
     "data": {
      "application/vnd.plotly.v1+json": {
       "config": {
        "plotlyServerURL": "https://plot.ly"
       },
       "data": [
        {
         "marker": {
          "color": "rgba(152, 0, 0, .8)",
          "line": {
           "color": "rgb(0, 0, 0)",
           "width": 2
          },
          "size": 10
         },
         "mode": "markers",
         "type": "scatter",
         "x": [
          2,
          3,
          7,
          7,
          2,
          2,
          2,
          4,
          3,
          3,
          3,
          2,
          4,
          7,
          2,
          4,
          2,
          3,
          7,
          3,
          3,
          3,
          4,
          3,
          7,
          3,
          3,
          7,
          2,
          8,
          4,
          4,
          2,
          3,
          7,
          7,
          3,
          3,
          7
         ],
         "y": [
          1,
          1,
          3,
          1,
          1,
          1,
          1,
          1,
          1,
          1,
          1,
          1,
          1,
          3,
          1,
          3,
          1,
          1,
          3,
          1,
          1,
          1,
          1,
          1,
          1,
          1,
          1,
          3,
          1,
          4,
          2,
          2,
          1,
          1,
          2,
          2,
          1,
          1,
          3
         ]
        }
       ],
       "layout": {
        "showlegend": false,
        "template": {
         "data": {
          "bar": [
           {
            "error_x": {
             "color": "#2a3f5f"
            },
            "error_y": {
             "color": "#2a3f5f"
            },
            "marker": {
             "line": {
              "color": "#E5ECF6",
              "width": 0.5
             },
             "pattern": {
              "fillmode": "overlay",
              "size": 10,
              "solidity": 0.2
             }
            },
            "type": "bar"
           }
          ],
          "barpolar": [
           {
            "marker": {
             "line": {
              "color": "#E5ECF6",
              "width": 0.5
             },
             "pattern": {
              "fillmode": "overlay",
              "size": 10,
              "solidity": 0.2
             }
            },
            "type": "barpolar"
           }
          ],
          "carpet": [
           {
            "aaxis": {
             "endlinecolor": "#2a3f5f",
             "gridcolor": "white",
             "linecolor": "white",
             "minorgridcolor": "white",
             "startlinecolor": "#2a3f5f"
            },
            "baxis": {
             "endlinecolor": "#2a3f5f",
             "gridcolor": "white",
             "linecolor": "white",
             "minorgridcolor": "white",
             "startlinecolor": "#2a3f5f"
            },
            "type": "carpet"
           }
          ],
          "choropleth": [
           {
            "colorbar": {
             "outlinewidth": 0,
             "ticks": ""
            },
            "type": "choropleth"
           }
          ],
          "contour": [
           {
            "colorbar": {
             "outlinewidth": 0,
             "ticks": ""
            },
            "colorscale": [
             [
              0,
              "#0d0887"
             ],
             [
              0.1111111111111111,
              "#46039f"
             ],
             [
              0.2222222222222222,
              "#7201a8"
             ],
             [
              0.3333333333333333,
              "#9c179e"
             ],
             [
              0.4444444444444444,
              "#bd3786"
             ],
             [
              0.5555555555555556,
              "#d8576b"
             ],
             [
              0.6666666666666666,
              "#ed7953"
             ],
             [
              0.7777777777777778,
              "#fb9f3a"
             ],
             [
              0.8888888888888888,
              "#fdca26"
             ],
             [
              1,
              "#f0f921"
             ]
            ],
            "type": "contour"
           }
          ],
          "contourcarpet": [
           {
            "colorbar": {
             "outlinewidth": 0,
             "ticks": ""
            },
            "type": "contourcarpet"
           }
          ],
          "heatmap": [
           {
            "colorbar": {
             "outlinewidth": 0,
             "ticks": ""
            },
            "colorscale": [
             [
              0,
              "#0d0887"
             ],
             [
              0.1111111111111111,
              "#46039f"
             ],
             [
              0.2222222222222222,
              "#7201a8"
             ],
             [
              0.3333333333333333,
              "#9c179e"
             ],
             [
              0.4444444444444444,
              "#bd3786"
             ],
             [
              0.5555555555555556,
              "#d8576b"
             ],
             [
              0.6666666666666666,
              "#ed7953"
             ],
             [
              0.7777777777777778,
              "#fb9f3a"
             ],
             [
              0.8888888888888888,
              "#fdca26"
             ],
             [
              1,
              "#f0f921"
             ]
            ],
            "type": "heatmap"
           }
          ],
          "heatmapgl": [
           {
            "colorbar": {
             "outlinewidth": 0,
             "ticks": ""
            },
            "colorscale": [
             [
              0,
              "#0d0887"
             ],
             [
              0.1111111111111111,
              "#46039f"
             ],
             [
              0.2222222222222222,
              "#7201a8"
             ],
             [
              0.3333333333333333,
              "#9c179e"
             ],
             [
              0.4444444444444444,
              "#bd3786"
             ],
             [
              0.5555555555555556,
              "#d8576b"
             ],
             [
              0.6666666666666666,
              "#ed7953"
             ],
             [
              0.7777777777777778,
              "#fb9f3a"
             ],
             [
              0.8888888888888888,
              "#fdca26"
             ],
             [
              1,
              "#f0f921"
             ]
            ],
            "type": "heatmapgl"
           }
          ],
          "histogram": [
           {
            "marker": {
             "pattern": {
              "fillmode": "overlay",
              "size": 10,
              "solidity": 0.2
             }
            },
            "type": "histogram"
           }
          ],
          "histogram2d": [
           {
            "colorbar": {
             "outlinewidth": 0,
             "ticks": ""
            },
            "colorscale": [
             [
              0,
              "#0d0887"
             ],
             [
              0.1111111111111111,
              "#46039f"
             ],
             [
              0.2222222222222222,
              "#7201a8"
             ],
             [
              0.3333333333333333,
              "#9c179e"
             ],
             [
              0.4444444444444444,
              "#bd3786"
             ],
             [
              0.5555555555555556,
              "#d8576b"
             ],
             [
              0.6666666666666666,
              "#ed7953"
             ],
             [
              0.7777777777777778,
              "#fb9f3a"
             ],
             [
              0.8888888888888888,
              "#fdca26"
             ],
             [
              1,
              "#f0f921"
             ]
            ],
            "type": "histogram2d"
           }
          ],
          "histogram2dcontour": [
           {
            "colorbar": {
             "outlinewidth": 0,
             "ticks": ""
            },
            "colorscale": [
             [
              0,
              "#0d0887"
             ],
             [
              0.1111111111111111,
              "#46039f"
             ],
             [
              0.2222222222222222,
              "#7201a8"
             ],
             [
              0.3333333333333333,
              "#9c179e"
             ],
             [
              0.4444444444444444,
              "#bd3786"
             ],
             [
              0.5555555555555556,
              "#d8576b"
             ],
             [
              0.6666666666666666,
              "#ed7953"
             ],
             [
              0.7777777777777778,
              "#fb9f3a"
             ],
             [
              0.8888888888888888,
              "#fdca26"
             ],
             [
              1,
              "#f0f921"
             ]
            ],
            "type": "histogram2dcontour"
           }
          ],
          "mesh3d": [
           {
            "colorbar": {
             "outlinewidth": 0,
             "ticks": ""
            },
            "type": "mesh3d"
           }
          ],
          "parcoords": [
           {
            "line": {
             "colorbar": {
              "outlinewidth": 0,
              "ticks": ""
             }
            },
            "type": "parcoords"
           }
          ],
          "pie": [
           {
            "automargin": true,
            "type": "pie"
           }
          ],
          "scatter": [
           {
            "fillpattern": {
             "fillmode": "overlay",
             "size": 10,
             "solidity": 0.2
            },
            "type": "scatter"
           }
          ],
          "scatter3d": [
           {
            "line": {
             "colorbar": {
              "outlinewidth": 0,
              "ticks": ""
             }
            },
            "marker": {
             "colorbar": {
              "outlinewidth": 0,
              "ticks": ""
             }
            },
            "type": "scatter3d"
           }
          ],
          "scattercarpet": [
           {
            "marker": {
             "colorbar": {
              "outlinewidth": 0,
              "ticks": ""
             }
            },
            "type": "scattercarpet"
           }
          ],
          "scattergeo": [
           {
            "marker": {
             "colorbar": {
              "outlinewidth": 0,
              "ticks": ""
             }
            },
            "type": "scattergeo"
           }
          ],
          "scattergl": [
           {
            "marker": {
             "colorbar": {
              "outlinewidth": 0,
              "ticks": ""
             }
            },
            "type": "scattergl"
           }
          ],
          "scattermapbox": [
           {
            "marker": {
             "colorbar": {
              "outlinewidth": 0,
              "ticks": ""
             }
            },
            "type": "scattermapbox"
           }
          ],
          "scatterpolar": [
           {
            "marker": {
             "colorbar": {
              "outlinewidth": 0,
              "ticks": ""
             }
            },
            "type": "scatterpolar"
           }
          ],
          "scatterpolargl": [
           {
            "marker": {
             "colorbar": {
              "outlinewidth": 0,
              "ticks": ""
             }
            },
            "type": "scatterpolargl"
           }
          ],
          "scatterternary": [
           {
            "marker": {
             "colorbar": {
              "outlinewidth": 0,
              "ticks": ""
             }
            },
            "type": "scatterternary"
           }
          ],
          "surface": [
           {
            "colorbar": {
             "outlinewidth": 0,
             "ticks": ""
            },
            "colorscale": [
             [
              0,
              "#0d0887"
             ],
             [
              0.1111111111111111,
              "#46039f"
             ],
             [
              0.2222222222222222,
              "#7201a8"
             ],
             [
              0.3333333333333333,
              "#9c179e"
             ],
             [
              0.4444444444444444,
              "#bd3786"
             ],
             [
              0.5555555555555556,
              "#d8576b"
             ],
             [
              0.6666666666666666,
              "#ed7953"
             ],
             [
              0.7777777777777778,
              "#fb9f3a"
             ],
             [
              0.8888888888888888,
              "#fdca26"
             ],
             [
              1,
              "#f0f921"
             ]
            ],
            "type": "surface"
           }
          ],
          "table": [
           {
            "cells": {
             "fill": {
              "color": "#EBF0F8"
             },
             "line": {
              "color": "white"
             }
            },
            "header": {
             "fill": {
              "color": "#C8D4E3"
             },
             "line": {
              "color": "white"
             }
            },
            "type": "table"
           }
          ]
         },
         "layout": {
          "annotationdefaults": {
           "arrowcolor": "#2a3f5f",
           "arrowhead": 0,
           "arrowwidth": 1
          },
          "autotypenumbers": "strict",
          "coloraxis": {
           "colorbar": {
            "outlinewidth": 0,
            "ticks": ""
           }
          },
          "colorscale": {
           "diverging": [
            [
             0,
             "#8e0152"
            ],
            [
             0.1,
             "#c51b7d"
            ],
            [
             0.2,
             "#de77ae"
            ],
            [
             0.3,
             "#f1b6da"
            ],
            [
             0.4,
             "#fde0ef"
            ],
            [
             0.5,
             "#f7f7f7"
            ],
            [
             0.6,
             "#e6f5d0"
            ],
            [
             0.7,
             "#b8e186"
            ],
            [
             0.8,
             "#7fbc41"
            ],
            [
             0.9,
             "#4d9221"
            ],
            [
             1,
             "#276419"
            ]
           ],
           "sequential": [
            [
             0,
             "#0d0887"
            ],
            [
             0.1111111111111111,
             "#46039f"
            ],
            [
             0.2222222222222222,
             "#7201a8"
            ],
            [
             0.3333333333333333,
             "#9c179e"
            ],
            [
             0.4444444444444444,
             "#bd3786"
            ],
            [
             0.5555555555555556,
             "#d8576b"
            ],
            [
             0.6666666666666666,
             "#ed7953"
            ],
            [
             0.7777777777777778,
             "#fb9f3a"
            ],
            [
             0.8888888888888888,
             "#fdca26"
            ],
            [
             1,
             "#f0f921"
            ]
           ],
           "sequentialminus": [
            [
             0,
             "#0d0887"
            ],
            [
             0.1111111111111111,
             "#46039f"
            ],
            [
             0.2222222222222222,
             "#7201a8"
            ],
            [
             0.3333333333333333,
             "#9c179e"
            ],
            [
             0.4444444444444444,
             "#bd3786"
            ],
            [
             0.5555555555555556,
             "#d8576b"
            ],
            [
             0.6666666666666666,
             "#ed7953"
            ],
            [
             0.7777777777777778,
             "#fb9f3a"
            ],
            [
             0.8888888888888888,
             "#fdca26"
            ],
            [
             1,
             "#f0f921"
            ]
           ]
          },
          "colorway": [
           "#636efa",
           "#EF553B",
           "#00cc96",
           "#ab63fa",
           "#FFA15A",
           "#19d3f3",
           "#FF6692",
           "#B6E880",
           "#FF97FF",
           "#FECB52"
          ],
          "font": {
           "color": "#2a3f5f"
          },
          "geo": {
           "bgcolor": "white",
           "lakecolor": "white",
           "landcolor": "#E5ECF6",
           "showlakes": true,
           "showland": true,
           "subunitcolor": "white"
          },
          "hoverlabel": {
           "align": "left"
          },
          "hovermode": "closest",
          "mapbox": {
           "style": "light"
          },
          "paper_bgcolor": "white",
          "plot_bgcolor": "#E5ECF6",
          "polar": {
           "angularaxis": {
            "gridcolor": "white",
            "linecolor": "white",
            "ticks": ""
           },
           "bgcolor": "#E5ECF6",
           "radialaxis": {
            "gridcolor": "white",
            "linecolor": "white",
            "ticks": ""
           }
          },
          "scene": {
           "xaxis": {
            "backgroundcolor": "#E5ECF6",
            "gridcolor": "white",
            "gridwidth": 2,
            "linecolor": "white",
            "showbackground": true,
            "ticks": "",
            "zerolinecolor": "white"
           },
           "yaxis": {
            "backgroundcolor": "#E5ECF6",
            "gridcolor": "white",
            "gridwidth": 2,
            "linecolor": "white",
            "showbackground": true,
            "ticks": "",
            "zerolinecolor": "white"
           },
           "zaxis": {
            "backgroundcolor": "#E5ECF6",
            "gridcolor": "white",
            "gridwidth": 2,
            "linecolor": "white",
            "showbackground": true,
            "ticks": "",
            "zerolinecolor": "white"
           }
          },
          "shapedefaults": {
           "line": {
            "color": "#2a3f5f"
           }
          },
          "ternary": {
           "aaxis": {
            "gridcolor": "white",
            "linecolor": "white",
            "ticks": ""
           },
           "baxis": {
            "gridcolor": "white",
            "linecolor": "white",
            "ticks": ""
           },
           "bgcolor": "#E5ECF6",
           "caxis": {
            "gridcolor": "white",
            "linecolor": "white",
            "ticks": ""
           }
          },
          "title": {
           "x": 0.05
          },
          "xaxis": {
           "automargin": true,
           "gridcolor": "white",
           "linecolor": "white",
           "ticks": "",
           "title": {
            "standoff": 15
           },
           "zerolinecolor": "white",
           "zerolinewidth": 2
          },
          "yaxis": {
           "automargin": true,
           "gridcolor": "white",
           "linecolor": "white",
           "ticks": "",
           "title": {
            "standoff": 15
           },
           "zerolinecolor": "white",
           "zerolinewidth": 2
          }
         }
        },
        "title": {
         "text": "Nuage de points : judge_complexity_score vs demande_score"
        },
        "xaxis": {
         "title": {
          "text": "judge_complexity_score"
         }
        },
        "yaxis": {
         "title": {
          "text": "demande_score"
         }
        }
       }
      }
     },
     "metadata": {},
     "output_type": "display_data"
    }
   ],
   "source": [
    "create_scatter_plot(observations_df, \"judge_complexity_score\", \"demande_score\")"
   ]
  },
  {
   "cell_type": "code",
   "execution_count": null,
   "id": "0fce17ec",
   "metadata": {},
   "outputs": [],
   "source": []
  }
 ],
 "metadata": {
  "kernelspec": {
   "display_name": "Python 3 (ipykernel)",
   "language": "python",
   "name": "python3"
  },
  "language_info": {
   "codemirror_mode": {
    "name": "ipython",
    "version": 3
   },
   "file_extension": ".py",
   "mimetype": "text/x-python",
   "name": "python",
   "nbconvert_exporter": "python",
   "pygments_lexer": "ipython3",
   "version": "3.13.7"
  }
 },
 "nbformat": 4,
 "nbformat_minor": 5
}
